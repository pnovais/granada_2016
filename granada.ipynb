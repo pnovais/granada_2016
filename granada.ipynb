{
 "cells": [
  {
   "cell_type": "code",
   "execution_count": 5,
   "metadata": {
    "collapsed": true
   },
   "outputs": [],
   "source": [
    "#inicializando os pacotes\n",
    "import pandas as pd\n",
    "import numpy as np\n",
    "import datetime\n",
    "import time\n",
    "from sys import exit\n",
    "from matplotlib import colors, pyplot as plt\n",
    "from functools import reduce\n",
    "import matplotlib.cm as cm\n",
    "import seaborn as sns\n",
    "from astropy.io import ascii, fits\n",
    "from astropy.wcs import wcs\n",
    "from mpl_toolkits.mplot3d import Axes3D\n",
    "from matplotlib import cm\n",
    "from matplotlib.ticker import LinearLocator, FormatStrFormatter\n",
    "from scipy.interpolate import interp2d\n",
    "import cubehelix\n",
    "import matplotlib.mlab as mlab\n",
    "import scipy, pylab\n",
    "import math\n",
    "import hu\n",
    "import plots"
   ]
  },
  {
   "cell_type": "code",
   "execution_count": 6,
   "metadata": {
    "collapsed": true
   },
   "outputs": [],
   "source": [
    "__author__ = 'pnovais'\n",
    "ini=time.time()"
   ]
  },
  {
   "cell_type": "code",
   "execution_count": 7,
   "metadata": {
    "collapsed": true
   },
   "outputs": [],
   "source": [
    "#classe de cores\n",
    "class bcolors:\n",
    "    HEADER = '\\033[95m'\n",
    "    OKBLUE = '\\033[94m'\n",
    "    OKGREEN = '\\033[92m'\n",
    "    WARNING = '\\033[93m'\n",
    "    FAIL = '\\033[91m'\n",
    "    ENDC = '\\033[0m'\n",
    "    BOLD = '\\033[1m'\n",
    "    UNDERLINE = '\\033[4m'\n",
    "    PATY = '\\033[32m'\n",
    "    PINK = '\\033[35m'\n",
    "    YELLOWs = '\\033[33m'"
   ]
  },
  {
   "cell_type": "code",
   "execution_count": 8,
   "metadata": {
    "collapsed": true
   },
   "outputs": [],
   "source": [
    "#definindo a classe que ira ler as imagens fits\n",
    "def get_image(f_sdss):\n",
    "    img = f_sdss[0].data\n",
    "#    sky = f_sdss[2].data\n",
    "    return img"
   ]
  },
  {
   "cell_type": "code",
   "execution_count": 9,
   "metadata": {
    "collapsed": false
   },
   "outputs": [],
   "source": [
    "#diretorio e abertura de arquivos\n",
    "data_dir = '/home/pnovais/Dropbox/DOUTORADO/granada_2016'\n",
    "age = pd.read_csv('Paty_at_flux__yx/age.csv')\n",
    "mass = pd.read_csv('PatImages/mass.csv')\n",
    "halpha = pd.read_csv('Hamaps/halpha.csv')"
   ]
  },
  {
   "cell_type": "code",
   "execution_count": 10,
   "metadata": {
    "collapsed": false
   },
   "outputs": [
    {
     "data": {
      "text/html": [
       "<div>\n",
       "<table border=\"1\" class=\"dataframe\">\n",
       "  <thead>\n",
       "    <tr style=\"text-align: right;\">\n",
       "      <th></th>\n",
       "      <th>flux</th>\n",
       "      <th>num_gal</th>\n",
       "    </tr>\n",
       "  </thead>\n",
       "  <tbody>\n",
       "    <tr>\n",
       "      <th>0</th>\n",
       "      <td>at_flux__yx_</td>\n",
       "      <td>K0001</td>\n",
       "    </tr>\n",
       "    <tr>\n",
       "      <th>1</th>\n",
       "      <td>at_flux__yx_</td>\n",
       "      <td>K0002</td>\n",
       "    </tr>\n",
       "    <tr>\n",
       "      <th>2</th>\n",
       "      <td>at_flux__yx_</td>\n",
       "      <td>K0003</td>\n",
       "    </tr>\n",
       "    <tr>\n",
       "      <th>3</th>\n",
       "      <td>at_flux__yx_</td>\n",
       "      <td>K0005</td>\n",
       "    </tr>\n",
       "    <tr>\n",
       "      <th>4</th>\n",
       "      <td>at_flux__yx_</td>\n",
       "      <td>K0007</td>\n",
       "    </tr>\n",
       "  </tbody>\n",
       "</table>\n",
       "</div>"
      ],
      "text/plain": [
       "           flux num_gal\n",
       "0  at_flux__yx_   K0001\n",
       "1  at_flux__yx_   K0002\n",
       "2  at_flux__yx_   K0003\n",
       "3  at_flux__yx_   K0005\n",
       "4  at_flux__yx_   K0007"
      ]
     },
     "execution_count": 10,
     "metadata": {},
     "output_type": "execute_result"
    }
   ],
   "source": [
    "age.head()"
   ]
  },
  {
   "cell_type": "code",
   "execution_count": 11,
   "metadata": {
    "collapsed": false
   },
   "outputs": [
    {
     "data": {
      "text/html": [
       "<div>\n",
       "<table border=\"1\" class=\"dataframe\">\n",
       "  <thead>\n",
       "    <tr style=\"text-align: right;\">\n",
       "      <th></th>\n",
       "      <th>mass</th>\n",
       "      <th>num_gal</th>\n",
       "    </tr>\n",
       "  </thead>\n",
       "  <tbody>\n",
       "    <tr>\n",
       "      <th>0</th>\n",
       "      <td>PatImagesMcorSD__yx</td>\n",
       "      <td>K0001</td>\n",
       "    </tr>\n",
       "    <tr>\n",
       "      <th>1</th>\n",
       "      <td>PatImagesMcorSD__yx</td>\n",
       "      <td>K0002</td>\n",
       "    </tr>\n",
       "    <tr>\n",
       "      <th>2</th>\n",
       "      <td>PatImagesMcorSD__yx</td>\n",
       "      <td>K0003</td>\n",
       "    </tr>\n",
       "    <tr>\n",
       "      <th>3</th>\n",
       "      <td>PatImagesMcorSD__yx</td>\n",
       "      <td>K0005</td>\n",
       "    </tr>\n",
       "    <tr>\n",
       "      <th>4</th>\n",
       "      <td>PatImagesMcorSD__yx</td>\n",
       "      <td>K0007</td>\n",
       "    </tr>\n",
       "  </tbody>\n",
       "</table>\n",
       "</div>"
      ],
      "text/plain": [
       "                  mass  num_gal\n",
       "0  PatImagesMcorSD__yx    K0001\n",
       "1  PatImagesMcorSD__yx    K0002\n",
       "2  PatImagesMcorSD__yx    K0003\n",
       "3  PatImagesMcorSD__yx    K0005\n",
       "4  PatImagesMcorSD__yx    K0007"
      ]
     },
     "execution_count": 11,
     "metadata": {},
     "output_type": "execute_result"
    }
   ],
   "source": [
    "mass.head()"
   ]
  },
  {
   "cell_type": "code",
   "execution_count": null,
   "metadata": {
    "collapsed": true
   },
   "outputs": [],
   "source": []
  }
 ],
 "metadata": {
  "kernelspec": {
   "display_name": "Python 2",
   "language": "python",
   "name": "python2"
  },
  "language_info": {
   "codemirror_mode": {
    "name": "ipython",
    "version": 2
   },
   "file_extension": ".py",
   "mimetype": "text/x-python",
   "name": "python",
   "nbconvert_exporter": "python",
   "pygments_lexer": "ipython2",
   "version": "2.7.12"
  }
 },
 "nbformat": 4,
 "nbformat_minor": 0
}
